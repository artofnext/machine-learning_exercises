{
 "cells": [
  {
   "cell_type": "code",
   "execution_count": 1,
   "metadata": {},
   "outputs": [],
   "source": [
    "import math\n",
    "import random\n",
    "import numpy as np\n",
    "from matplotlib import pyplot as plot"
   ]
  },
  {
   "cell_type": "markdown",
   "metadata": {},
   "source": [
    "1. Build a K-NN classifier that is specifically suited for the dataset from previous exercises"
   ]
  },
  {
   "cell_type": "code",
   "execution_count": 2,
   "metadata": {},
   "outputs": [],
   "source": [
    "# prepare data functions\n",
    "\n",
    "# generates set of all possible bit patterns\n",
    "# returns list of bit pattern lists\n",
    "def generateDataSet(length = 2):\n",
    "    result = []\n",
    "    formatter = \"0\" + str(length) + \"b\"\n",
    "    for i in range(2 ** length):\n",
    "        result.append([int(x) for x in format(i, formatter)])\n",
    "    return result\n",
    "\n",
    "# classification rule odd = -1 even = 1\n",
    "# input list of bit pattern lists\n",
    "# return list\n",
    "def desiredOutputOddEven(inputV):\n",
    "    result = []\n",
    "    for x in inputV:\n",
    "        res = 1 if (int(\"\".join(str(elem) for elem in x), 2) % 2) == 0  else -1\n",
    "        result.append(res)\n",
    "    return result\n",
    "\n",
    "# return 2 sets of randomly selected elements as a sublists of a list \n",
    "def splitDataset(inputV, fraction = .3):\n",
    "    inputLength = len(inputV)\n",
    "    # generate list of random int without duplicates \n",
    "    randIndexes = random.sample(range(inputLength - 1), int(inputLength * fraction))\n",
    "    output1 = []\n",
    "    output2 = []\n",
    "    for index, x in enumerate(inputV):\n",
    "        if index in randIndexes:\n",
    "            output1.append(x[:])\n",
    "        else:\n",
    "            output2.append(x[:])\n",
    "    return [output1, output2]\n",
    "\n"
   ]
  },
  {
   "cell_type": "code",
   "execution_count": 3,
   "metadata": {},
   "outputs": [],
   "source": [
    "# helper functions\n",
    "\n",
    "# return Hamming distance\n",
    "def getDistance(pattern1, pattern2):\n",
    "    if (len(pattern1) != len(pattern1)):\n",
    "        print('Patterns length missmatch!')\n",
    "        return False\n",
    "    matchedBits = 0\n",
    "    for index, bit in enumerate(pattern1):\n",
    "        if (bit != pattern2[index]):\n",
    "            matchedBits += 1\n",
    "    return matchedBits\n",
    "\n",
    "# cumulative error\n",
    "def calculateError (vector1, vector2):\n",
    "    error = 0\n",
    "    for index, v1 in enumerate(vector1):\n",
    "        error += 0 if v1 == vector2[index] else 1\n",
    "    return error / len(vector1)"
   ]
  },
  {
   "cell_type": "code",
   "execution_count": 4,
   "metadata": {},
   "outputs": [],
   "source": [
    "# K-NN classifier\n",
    "class ClassifierKNN:\n",
    "    def __init__(self, inputV, outputV, k = 3):\n",
    "        self.inputV = inputV\n",
    "        self.outputV = outputV\n",
    "        self.k = k\n",
    "        \n",
    "    def clasify(self, sample):\n",
    "        distanseV = []\n",
    "        # calculate distances to each element\n",
    "        for x in self.inputV:\n",
    "            distanseV.append(getDistance(x, sample))\n",
    "        #print (distanseV)\n",
    "        # get the closest k first indexes\n",
    "        indexesOfKClosest = list(np.argsort(distanseV))[:self.k]\n",
    "        #print (indexesOfKClosest)\n",
    "        # get the classes for these elements\n",
    "        outputs = np.array(self.outputV)\n",
    "        classes = list(outputs[indexesOfKClosest])\n",
    "        #print(classes)\n",
    "        # evaluate the dominant class\n",
    "        if sum(classes) > 0 :\n",
    "            return 1\n",
    "        else:\n",
    "            return -1\n",
    "    \n",
    "    def clasifyDataset(self, sampleV):\n",
    "        outputV = []\n",
    "        for sample in sampleV:\n",
    "            outputV.append(self.clasify(sample))\n",
    "        return (outputV)"
   ]
  },
  {
   "cell_type": "markdown",
   "metadata": {},
   "source": [
    "Let's run an experiment for 30 repetitions at different K"
   ]
  },
  {
   "cell_type": "code",
   "execution_count": 5,
   "metadata": {},
   "outputs": [],
   "source": [
    "repeats = 30\n",
    "\n",
    "# set of K\n",
    "kV = [3,5,11]\n",
    "\n",
    "errorsV = []\n",
    "\n",
    "random.seed(1)\n",
    "\n",
    "# generate dataset of 1024 10-bit elements\n",
    "datas1 = generateDataSet(10)\n",
    "\n",
    "for k in kV:\n",
    "    errorSet = []\n",
    "    for i in range(repeats): \n",
    "        # randomly split dataset by 50% / 50%\n",
    "        splitted1 = splitDataset(datas1, 0.5)\n",
    "        # dataset for training\n",
    "        trainInputV = splitted1[1]\n",
    "        # dataset for testing\n",
    "        testInputV = splitted1[0]\n",
    "        # generate desired outputs for train dataset\n",
    "        trainOutputV = desiredOutputOddEven(trainInputV)\n",
    "        # generate desired outputs for test dataset for comparison\n",
    "        testOutputV = desiredOutputOddEven(testInputV)\n",
    "        # instantiate classifier instance\n",
    "        classif1 = ClassifierKNN(trainInputV, trainOutputV, k)\n",
    "        # get classifier output\n",
    "        classifiedOutputV = classif1.clasifyDataset(testInputV)\n",
    "        # compare with desired and calculate error\n",
    "        error = calculateError(testOutputV, classifiedOutputV)\n",
    "        # represent error in 100% scale\n",
    "        errorSet.append(error * 100)\n",
    "    \n",
    "    errorsV.append(errorSet)"
   ]
  },
  {
   "cell_type": "code",
   "execution_count": 6,
   "metadata": {},
   "outputs": [
    {
     "data": {
      "image/png": "[encoded data removed]",
      "text/plain": [
       "<Figure size 432x288 with 1 Axes>"
      ]
     },
     "metadata": {
      "needs_background": "light"
     },
     "output_type": "display_data"
    }
   ],
   "source": [
    "plot.boxplot((errorsV),labels = kV)\n",
    "plot.title(\"% Errors vs k\")\n",
    "plot.ylabel(\"% of errors\")\n",
    "plot.xlabel(\"K\")\n",
    "plot.show()"
   ]
  },
  {
   "cell_type": "markdown",
   "metadata": {},
   "source": [
    "As we can see from the graph, the number of errors decreases when using a larger K. I used a data separation of 50% / 50%, because with a separation of 70% / 30%, the error at K greater than 3 turned out to be zero (in fact, with the original even-odd function, the classification depends on the state of the last bit, which is a fairly primitive case)."
   ]
  },
  {
   "cell_type": "markdown",
   "metadata": {},
   "source": [
    "2. Calculating Entropy and Information Gain"
   ]
  },
  {
   "cell_type": "code",
   "execution_count": 7,
   "metadata": {},
   "outputs": [],
   "source": [
    "# split data set by bitNumber bit value\n",
    "# return list of lists\n",
    "def splitByBit(inputV, bitNumber = 0):\n",
    "    output1 = []\n",
    "    output2 = []\n",
    "    for x in inputV:\n",
    "        if x[bitNumber] > 0:\n",
    "            output1.append(x[:])\n",
    "        else:\n",
    "            output2.append(x[:])\n",
    "    return [output1, output2]\n",
    "\n",
    "# return probabilipy of p in inputV dataset\n",
    "def probabilipyP(inputV, p):\n",
    "    pV = [i for i in inputV if i == p]\n",
    "    return len(pV) / len(inputV)\n",
    "\n",
    "# return entropy for dataset\n",
    "def entrophy(outputV):\n",
    "    prP1 = probabilipyP(outputV, 1)\n",
    "    prP2 = probabilipyP(outputV, -1)\n",
    "    # avoid log2(0)\n",
    "    entrophy = -((prP1 * (0 if prP1 == 0 else np.log2(prP1)) + (prP2 * (0 if prP2 == 0 else np.log2(prP2)))))\n",
    "    return entrophy"
   ]
  },
  {
   "cell_type": "code",
   "execution_count": 8,
   "metadata": {},
   "outputs": [
    {
     "name": "stdout",
     "output_type": "stream",
     "text": [
      "0.9944132844077624\n",
      "0.9989768567398462\n"
     ]
    }
   ],
   "source": [
    "# testing part\n",
    "dataset2 = generateDataSet(10)\n",
    "splitted2 = splitByBit(dataset2)\n",
    "splitted2 = splitDataset(dataset2, 0.3)\n",
    "datasPart1 = splitted2[0]\n",
    "datasPart2 = splitted2[1]\n",
    "\n",
    "#print(probabilipyP(desiredOutputOddEven(datasPart1), 1))\n",
    "#print(probabilipyP(desiredOutputOddEven(datasPart2), -1))\n",
    "\n",
    "print(entrophy(desiredOutputOddEven(datasPart1)))\n",
    "print(entrophy(desiredOutputOddEven(datasPart2)))"
   ]
  },
  {
   "cell_type": "code",
   "execution_count": 9,
   "metadata": {},
   "outputs": [],
   "source": [
    "# return Information Gain for 2 splits by bit at position \"splitBy\"\n",
    "def gainE(inputV, splitBy):\n",
    "    #split the dataset by feature\n",
    "    splittedV = splitByBit(inputV, splitBy)\n",
    "    # generate outputs for datasets\n",
    "    outputsV = []\n",
    "    for dataset in splittedV:\n",
    "        outputsV.append(desiredOutputOddEven(dataset))\n",
    "    # entrophy for each splitted dataset\n",
    "    entrophyV = []\n",
    "    for dataset in outputsV:\n",
    "        entrophyV.append(entrophy(dataset))\n",
    "    # entrophy for whole dataset\n",
    "    wholeEntrophy = entrophy(desiredOutputOddEven(inputV))\n",
    "    # weighted average of entropy for each dataset\n",
    "    entrophyWA = 0\n",
    "    for index, entr in enumerate(entrophyV):\n",
    "        entrophyWA += entr * len(outputsV[index])/len(inputV)\n",
    "    # information gain\n",
    "    gain = wholeEntrophy - entrophyWA\n",
    "    return gain"
   ]
  },
  {
   "cell_type": "markdown",
   "metadata": {},
   "source": [
    "Let's calculate the IG for all sets, dividing the initial data set sequentially for each feature"
   ]
  },
  {
   "cell_type": "code",
   "execution_count": 10,
   "metadata": {},
   "outputs": [
    {
     "name": "stdout",
     "output_type": "stream",
     "text": [
      "IG for dataset divided by 0-th bit is 0.0\n",
      "IG for dataset divided by 1-th bit is 0.0\n",
      "IG for dataset divided by 2-th bit is 0.0\n",
      "IG for dataset divided by 3-th bit is 0.0\n",
      "IG for dataset divided by 4-th bit is 0.0\n",
      "IG for dataset divided by 5-th bit is 0.0\n",
      "IG for dataset divided by 6-th bit is 0.0\n",
      "IG for dataset divided by 7-th bit is 0.0\n",
      "IG for dataset divided by 8-th bit is 0.0\n",
      "IG for dataset divided by 9-th bit is 1.0\n"
     ]
    }
   ],
   "source": [
    "# generate dataset\n",
    "dataset5 = generateDataSet(10)\n",
    "\n",
    "for bit in range(len(dataset5[0])):\n",
    "    ig = gainE(dataset5, bit)\n",
    "    print(\"IG for dataset divided by \" + str(bit) + \"-th bit is \" + str(ig))"
   ]
  },
  {
   "cell_type": "markdown",
   "metadata": {},
   "source": [
    "Since we are using a perfectly balanced data set (all possible combinations), and the output values depend on the value of the last bit (even-odd function), the resulting IG data are discrete.\n",
    "Now let's take, for example, a part of the entire dataset, randomly selected from the entire set (60%), which will introduce a certain unevenness (with a high probability, this set will be missing some even or odd bit patterns)"
   ]
  },
  {
   "cell_type": "code",
   "execution_count": 11,
   "metadata": {},
   "outputs": [
    {
     "name": "stdout",
     "output_type": "stream",
     "text": [
      "IG for dataset divided by 0-th bit is 1.1260930968037819e-05\n",
      "IG for dataset divided by 1-th bit is 7.91137040883072e-05\n",
      "IG for dataset divided by 2-th bit is 0.0005169763908419167\n",
      "IG for dataset divided by 3-th bit is 0.0002683148087453402\n",
      "IG for dataset divided by 4-th bit is 0.0007539616606945243\n",
      "IG for dataset divided by 5-th bit is 0.0005701132596442893\n",
      "IG for dataset divided by 6-th bit is 2.5699077752072697e-05\n",
      "IG for dataset divided by 7-th bit is 0.00043797267561052067\n",
      "IG for dataset divided by 8-th bit is 0.00028390597451743993\n",
      "IG for dataset divided by 9-th bit is 0.9987061487157054\n"
     ]
    }
   ],
   "source": [
    "# generate dataset and take only 60%\n",
    "dataset6 = splitDataset(generateDataSet(10), 0.6)[0]\n",
    "\n",
    "for bit in range(len(dataset6[0])):\n",
    "    ig = gainE(dataset6, bit)\n",
    "    print(\"IG for dataset divided by \" + str(bit) + \"-th bit is \" + str(ig))"
   ]
  },
  {
   "cell_type": "markdown",
   "metadata": {},
   "source": [
    "As we can see, that dividing the data set on the basis of the last bit gives the maximum value of the IG. IG is a measure of the ordering of data sets divided by a certain feature (as opposed to entropy, which is a measure of disorder in the data). Thus, IG can be used to evaluate the quality of data subdivision. By sequentially dividing the data according to various features and evaluating the IG separation, it is possible to build a so-called \"decision tree\". In our case, this tree has only one fork, since the dataset is classified by 1 feature (the last bit)."
   ]
  },
  {
   "cell_type": "code",
   "execution_count": null,
   "metadata": {},
   "outputs": [],
   "source": []
  }
 ],
 "metadata": {
  "kernelspec": {
   "display_name": "Python 3",
   "language": "python",
   "name": "python3"
  },
  "language_info": {
   "codemirror_mode": {
    "name": "ipython",
    "version": 3
   },
   "file_extension": ".py",
   "mimetype": "text/x-python",
   "name": "python",
   "nbconvert_exporter": "python",
   "pygments_lexer": "ipython3",
   "version": "3.8.3"
  }
 },
 "nbformat": 4,
 "nbformat_minor": 4
}
