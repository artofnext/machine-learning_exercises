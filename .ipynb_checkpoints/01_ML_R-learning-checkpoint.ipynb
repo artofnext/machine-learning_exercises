{
 "cells": [
  {
   "cell_type": "markdown",
   "metadata": {},
   "source": [
    "1. State-transition function (s' = f(s, a))"
   ]
  },
  {
   "cell_type": "code",
   "execution_count": 1,
   "metadata": {},
   "outputs": [],
   "source": [
    "def transition(state, action) :\n",
    "    if (state % 10 == 1 and action == \"left\" or state % 10 == 0 and action == \"right\" or state < 11 and action == \"up\" or state > 90 and action == \"down\") :\n",
    "        return state\n",
    "    if action == \"left\" :\n",
    "        state -= 1\n",
    "    elif action == \"right\" :\n",
    "        state += 1\n",
    "    elif action == \"up\" :\n",
    "        state -= 10\n",
    "    elif action == \"down\" :\n",
    "        state += 10\n",
    "    else:\n",
    "        pass\n",
    "    return state"
   ]
  },
  {
   "cell_type": "markdown",
   "metadata": {},
   "source": [
    "2. Reward function r(s)"
   ]
  },
  {
   "cell_type": "code",
   "execution_count": 2,
   "metadata": {},
   "outputs": [],
   "source": [
    "def getReward(state) :\n",
    "    if state == 100 : return 100\n",
    "    else : return 0"
   ]
  },
  {
   "cell_type": "markdown",
   "metadata": {},
   "source": [
    "3. Search function that will randomly choose an action"
   ]
  },
  {
   "cell_type": "code",
   "execution_count": 3,
   "metadata": {},
   "outputs": [],
   "source": [
    "from random import seed\n",
    "from random import randint\n",
    "seed(1)\n",
    "\n",
    "movements = ['left','right','up','down']\n",
    "\n",
    "def getRandAction() :\n",
    "    val = randint(0, 3)\n",
    "    return movements[val]\n",
    "    # print (movements[val])\n"
   ]
  },
  {
   "cell_type": "code",
   "execution_count": 4,
   "metadata": {},
   "outputs": [],
   "source": [
    "def agentRndAction (iterations) :\n",
    "    state = 1\n",
    "    reward = 0\n",
    "    # steps = 0\n",
    "    for _ in range(iterations):\n",
    "        newState = transition(state,getRandAction())\n",
    "        reward += getReward(newState)\n",
    "        # reset agent position to initial after goal was achieved\n",
    "        if getReward(newState) : newState = 1\n",
    "        state = newState\n",
    "    return reward/iterations"
   ]
  },
  {
   "cell_type": "code",
   "execution_count": 5,
   "metadata": {
    "scrolled": true
   },
   "outputs": [],
   "source": [
    "import matplotlib.pyplot as plot\n",
    "\n",
    "iterations = 20000\n",
    "testIterations = 1000\n",
    "\n",
    "rewardPerStepAtStep0 = []\n",
    "rewardPerStepAtStep20000 = []\n",
    "runTime20000 =[]\n",
    "\n",
    "def excersise3():\n",
    "    rewardPerStepAtStep0.append(agentRndAction(testIterations))\n",
    "    agentRndAction(iterations)\n",
    "    rewardPerStepAtStep20000.append(agentRndAction(testIterations))\n",
    "    \n"
   ]
  },
  {
   "cell_type": "code",
   "execution_count": 6,
   "metadata": {},
   "outputs": [
    {
     "data": {
      "image/png": "[encoded data removed]",
      "text/plain": [
       "<Figure size 432x288 with 1 Axes>"
      ]
     },
     "metadata": {
      "needs_background": "light"
     },
     "output_type": "display_data"
    }
   ],
   "source": [
    "numRepeats = 30\n",
    "\n",
    "for _ in range(numRepeats):\n",
    "    excersise3()\n",
    "    \n",
    "plot.boxplot((rewardPerStepAtStep0, rewardPerStepAtStep20000),\n",
    "            labels = ['at 0', 'at 20000'])\n",
    "plot.title(\"Reward/Step for 30 repeats\")\n",
    "plot.show()\n"
   ]
  },
  {
   "cell_type": "markdown",
   "metadata": {},
   "source": [
    "There is a significant differences in values due to small amount of repeats.\n",
    "To achieve statistically proven results, let's try to collect data after 100 repeats:"
   ]
  },
  {
   "cell_type": "code",
   "execution_count": 7,
   "metadata": {},
   "outputs": [
    {
     "data": {
      "image/png": "[encoded data removed]",
      "text/plain": [
       "<Figure size 432x288 with 1 Axes>"
      ]
     },
     "metadata": {
      "needs_background": "light"
     },
     "output_type": "display_data"
    }
   ],
   "source": [
    "numRepeats = 100\n",
    "\n",
    "for _ in range(numRepeats):\n",
    "    excersise3()\n",
    "    \n",
    "plot.boxplot((rewardPerStepAtStep0, rewardPerStepAtStep20000),\n",
    "            labels = ['at 0', 'at 20000'])\n",
    "plot.title(\"Reward/Step for 100 repeats\")\n",
    "plot.show()"
   ]
  },
  {
   "cell_type": "markdown",
   "metadata": {},
   "source": [
    "No differences shows that no learn process involved"
   ]
  },
  {
   "cell_type": "markdown",
   "metadata": {},
   "source": [
    "4. Vector V to store the utility of each state"
   ]
  },
  {
   "cell_type": "code",
   "execution_count": 8,
   "metadata": {},
   "outputs": [
    {
     "data": {
      "image/png": "[encoded data removed]",
      "text/plain": [
       "<Figure size 432x288 with 1 Axes>"
      ]
     },
     "metadata": {
      "needs_background": "light"
     },
     "output_type": "display_data"
    }
   ],
   "source": [
    "import numpy as np\n",
    "\n",
    "# initialising vector V with initial\n",
    "def initialiseVector(initial):\n",
    "    global vectorV\n",
    "    vectorV = []\n",
    "    for _ in(range(100)):\n",
    "        vectorV.append(initial)\n",
    "\n",
    "def getV(state):\n",
    "    return vectorV[state-1]\n",
    "\n",
    "def setV(state, valueV):\n",
    "    vectorV[state-1] = valueV\n",
    "\n",
    "def calculateV(prevState, nextState):\n",
    "    resV = (1-alpha) * getV(prevState) + alpha * (getReward(nextState) + discount * getV(nextState))\n",
    "    return resV\n",
    "\n",
    "def calculateVector (iterations) :\n",
    "    state = 1\n",
    "    reward = 0\n",
    "    steps = 0\n",
    "    for _ in range(iterations):\n",
    "        newState = transition(state,getRandAction())\n",
    "        \n",
    "        # update vector V\n",
    "        setV(state, calculateV(state, newState))\n",
    "        \n",
    "        # reset agent position to initial after goal was achieved\n",
    "        #if getReward(newState) : newState = 1\n",
    "        state = newState\n",
    "\n",
    "initialiseVector(0)\n",
    "alpha = 0.5\n",
    "discount = 0.95\n",
    "calculateVector(20000)\n",
    "\n",
    "# reshape vector to matrix for better visualisation\n",
    "arrV = np.array(vectorV)\n",
    "matrixV = arrV.reshape(10, 10)\n",
    "\n",
    "plot.imshow(matrixV, cmap='hot')\n",
    "plot.title(\"Alpha 0.5, Discount 0.95\")\n",
    "plot.show()"
   ]
  },
  {
   "cell_type": "code",
   "execution_count": 9,
   "metadata": {
    "scrolled": true
   },
   "outputs": [
    {
     "data": {
      "image/png": "[encoded data removed]",
      "text/plain": [
       "<Figure size 432x288 with 1 Axes>"
      ]
     },
     "metadata": {
      "needs_background": "light"
     },
     "output_type": "display_data"
    }
   ],
   "source": [
    "initialiseVector(0)\n",
    "alpha = 0.1\n",
    "discount = 0.98\n",
    "calculateVector(20000)\n",
    "\n",
    "# reshape vector to matrix for better visualisation\n",
    "arrV = np.array(vectorV)\n",
    "matrixV = arrV.reshape(10, 10)\n",
    "\n",
    "plot.imshow(matrixV, cmap='hot')\n",
    "plot.title(\"Alpha min, Discount const\")\n",
    "plot.show()"
   ]
  },
  {
   "cell_type": "code",
   "execution_count": 10,
   "metadata": {},
   "outputs": [
    {
     "data": {
      "image/png": "[encoded data removed]",
      "text/plain": [
       "<Figure size 432x288 with 1 Axes>"
      ]
     },
     "metadata": {
      "needs_background": "light"
     },
     "output_type": "display_data"
    }
   ],
   "source": [
    "initialiseVector(0)\n",
    "alpha = 0.9\n",
    "discount = 0.98\n",
    "calculateVector(20000)\n",
    "\n",
    "# reshape vector to matrix for better visualisation\n",
    "arrV = np.array(vectorV)\n",
    "matrixV = arrV.reshape(10, 10)\n",
    "\n",
    "plot.imshow(matrixV, cmap='hot')\n",
    "plot.title(\"Alpha max, Discount const\")\n",
    "plot.show()"
   ]
  },
  {
   "cell_type": "code",
   "execution_count": 11,
   "metadata": {},
   "outputs": [
    {
     "data": {
      "image/png": "[encoded data removed]",
      "text/plain": [
       "<Figure size 432x288 with 1 Axes>"
      ]
     },
     "metadata": {
      "needs_background": "light"
     },
     "output_type": "display_data"
    }
   ],
   "source": [
    "initialiseVector(0)\n",
    "alpha = 0.3\n",
    "discount = 0.5\n",
    "calculateVector(20000)\n",
    "\n",
    "# reshape vector to matrix for better visualisation\n",
    "arrV = np.array(vectorV)\n",
    "matrixV = arrV.reshape(10, 10)\n",
    "\n",
    "plot.imshow(matrixV, cmap='hot')\n",
    "plot.title(\"Alpha const, Discount min\")\n",
    "plot.show()"
   ]
  },
  {
   "cell_type": "code",
   "execution_count": 12,
   "metadata": {},
   "outputs": [
    {
     "data": {
      "image/png": "[encoded data removed]",
      "text/plain": [
       "<Figure size 432x288 with 1 Axes>"
      ]
     },
     "metadata": {
      "needs_background": "light"
     },
     "output_type": "display_data"
    }
   ],
   "source": [
    "initialiseVector(0)\n",
    "alpha = 0.3\n",
    "discount = 0.9999\n",
    "calculateVector(20000)\n",
    "\n",
    "# reshape vector to matrix for better visualisation\n",
    "arrV = np.array(vectorV)\n",
    "matrixV = arrV.reshape(10, 10)\n",
    "\n",
    "plot.imshow(matrixV, cmap='hot')\n",
    "plot.title(\"Alpha const, Discount max\")\n",
    "plot.show()"
   ]
  },
  {
   "cell_type": "code",
   "execution_count": 13,
   "metadata": {},
   "outputs": [
    {
     "data": {
      "image/png": "[encoded data removed]",
      "text/plain": [
       "<Figure size 432x288 with 1 Axes>"
      ]
     },
     "metadata": {
      "needs_background": "light"
     },
     "output_type": "display_data"
    }
   ],
   "source": [
    "initialiseVector(0)\n",
    "alpha = 0.4\n",
    "discount = 0.999\n",
    "calculateVector(20000)\n",
    "\n",
    "# reshape vector to matrix for better visualisation\n",
    "arrV = np.array(vectorV)\n",
    "matrixV = arrV.reshape(10, 10)\n",
    "\n",
    "plot.imshow(matrixV, cmap='hot')\n",
    "plot.title(\"Optimal\")\n",
    "plot.show()"
   ]
  },
  {
   "cell_type": "markdown",
   "metadata": {},
   "source": [
    "After several adjustments it is possible to get empirically the optimal parameters as them show clear gradient of utility."
   ]
  },
  {
   "cell_type": "markdown",
   "metadata": {},
   "source": [
    "Try to find the way to reward using vector V. \n",
    "The algorithm. At any given state agent will choose the max utility state from any possible. In case there is no max utility, will perform random action."
   ]
  },
  {
   "cell_type": "code",
   "execution_count": 14,
   "metadata": {},
   "outputs": [],
   "source": [
    "def findNextStep(state):\n",
    "    possibleActionV = [\n",
    "        getV(transition(state, movements[0])),\n",
    "        getV(transition(state, movements[1])),\n",
    "        getV(transition(state, movements[2])),\n",
    "        getV(transition(state, movements[3]))\n",
    "    ]\n",
    "    maxPossibleActionV = max(possibleActionV)\n",
    "    bestAction = movements[possibleActionV.index(maxPossibleActionV)]\n",
    "    newState = transition(state,bestAction)\n",
    "    # in case there are the same values in vector, need to make a random move\n",
    "    if (possibleActionV.count(maxPossibleActionV) > 1) : newState = transition(state,getRandAction())\n",
    "    \n",
    "    return newState\n",
    "\n",
    "def agentVectorAction (iterations) :\n",
    "    state = 1\n",
    "    reward = 0\n",
    "    # steps = 0\n",
    "    for _ in range(iterations):\n",
    "        newState = findNextStep(state)\n",
    "        reward += getReward(newState)\n",
    "        # reset agent position to initial after goal was achieved\n",
    "        if getReward(newState) : newState = 1\n",
    "        state = newState\n",
    "    return reward/iterations\n",
    "\n",
    "iterations = 20000\n",
    "testIterations = 1000\n",
    "\n",
    "rewardPerStepAtStep0 = []\n",
    "rewardPerStepAtStep2000 = []\n",
    "rewardPerStepAtStep20000 = []\n",
    "runTime20000 =[]\n",
    "\n",
    "def excersise4():\n",
    "    initialiseVector(0)\n",
    "    rewardPerStepAtStep0.append(agentVectorAction(testIterations))\n",
    "    calculateVector(2000)\n",
    "    rewardPerStepAtStep2000.append(agentVectorAction(testIterations))\n",
    "    calculateVector(20000)\n",
    "    # agentRndAction(iterations)\n",
    "    rewardPerStepAtStep20000.append(agentVectorAction(testIterations))\n"
   ]
  },
  {
   "cell_type": "code",
   "execution_count": 15,
   "metadata": {},
   "outputs": [
    {
     "data": {
      "image/png": "[encoded data removed]",
      "text/plain": [
       "<Figure size 432x288 with 1 Axes>"
      ]
     },
     "metadata": {
      "needs_background": "light"
     },
     "output_type": "display_data"
    }
   ],
   "source": [
    "numRepeats = 30\n",
    "\n",
    "for _ in range(numRepeats):\n",
    "    excersise4()\n",
    "    \n",
    "plot.boxplot((rewardPerStepAtStep0, rewardPerStepAtStep2000, rewardPerStepAtStep20000),\n",
    "            labels = ['Initial V', 'V after 2000 iter', 'V after 20000 iter'])\n",
    "plot.title(\"Reward/Step using Vector for 30 repeats\")\n",
    "plot.show()"
   ]
  },
  {
   "cell_type": "markdown",
   "metadata": {},
   "source": [
    "The diagram shows clear growing of reward when agent use the vector. The more steps done to calculate vector, the higher reward per step agent achieve using vector info. "
   ]
  },
  {
   "cell_type": "code",
   "execution_count": 16,
   "metadata": {},
   "outputs": [],
   "source": [
    "# initiate matrix Q with small positive values\n",
    "\n",
    "def initQ():\n",
    "    global arrQ\n",
    "    arrQ = np.zeros((100, 4))\n",
    "    # arrQ = np.random.rand(100, 4)\n",
    "    # arrQ /= 10\n",
    "\n",
    "def getQ(state, action):\n",
    "    actionIndex = movements.index(action) \n",
    "    return arrQ[state-1][actionIndex]\n",
    "\n",
    "def setQ(state, action, value):\n",
    "    actionIndex = movements.index(action) \n",
    "    arrQ[state-1][actionIndex] = value\n",
    "    \n",
    "def updateQ(state, action):\n",
    "    nextState = transition(state, action)\n",
    "    possibleQ = [\n",
    "        getQ(nextState, movements[0]),\n",
    "        getQ(nextState, movements[1]),\n",
    "        getQ(nextState, movements[2]),\n",
    "        getQ(nextState, movements[3])\n",
    "    ]\n",
    "    maxQ = max(possibleQ)\n",
    "    theQ = (1-alpha) * getQ(state, action) + alpha * (getReward(nextState) + discount * maxQ)\n",
    "    setQ(state, action, theQ)\n",
    "    \n",
    "def calculateQ (iterations) :\n",
    "    state = 1\n",
    "    reward = 0\n",
    "    steps = 0\n",
    "    for _ in range(iterations):\n",
    "        action = getRandAction()\n",
    "        newState = transition(state, action)\n",
    "        \n",
    "        # update matrix Q\n",
    "        updateQ(state, action)\n",
    "\n",
    "        state = newState"
   ]
  },
  {
   "cell_type": "code",
   "execution_count": 17,
   "metadata": {},
   "outputs": [
    {
     "data": {
      "image/png": "[encoded data removed]",
      "text/plain": [
       "<Figure size 432x288 with 1 Axes>"
      ]
     },
     "metadata": {
      "needs_background": "light"
     },
     "output_type": "display_data"
    }
   ],
   "source": [
    "initQ()\n",
    "\n",
    "calculateQ(10000)\n",
    "\n",
    "# return: numpy.matrix object - for visualisation of utility of states (as max Q a for each state)\n",
    "def matrixView(array):\n",
    "    resArray = []\n",
    "    for elem in (array):\n",
    "        resArray.append(max(elem))\n",
    "    arrV = np.array(resArray)\n",
    "    # reshape vector to matrix for better visualisation\n",
    "    matrixV = arrV.reshape(10, 10)\n",
    "    return matrixV\n",
    "\n",
    "\n",
    "plot.imshow(matrixView(arrQ), cmap='hot')\n",
    "plot.title(\"Q matrix visualisation - random training\")\n",
    "plot.show()\n",
    "    "
   ]
  },
  {
   "cell_type": "code",
   "execution_count": 18,
   "metadata": {},
   "outputs": [
    {
     "data": {
      "image/png": "[encoded data removed]",
      "text/plain": [
       "<Figure size 432x288 with 1 Axes>"
      ]
     },
     "metadata": {
      "needs_background": "light"
     },
     "output_type": "display_data"
    }
   ],
   "source": [
    "# return: list - vector of utilities for actions for given state from arrQ\n",
    "def getVectorQ(state):\n",
    "    return arrQ[state-1].tolist()\n",
    "\n",
    "# recieve: int - agent's state\n",
    "# return: list - the best state[0]:int and action[1]:str to move to that state based on max Q(a)\n",
    "def getBestState(state):\n",
    "    possibleActionQ = getVectorQ(state)\n",
    "    maxPossibleActionQ = max(possibleActionQ)\n",
    "    bestAction = movements[possibleActionQ.index(maxPossibleActionQ)]\n",
    "    newState = transition(state,bestAction)\n",
    "    # in case there are the same values in vector, need to make a random move\n",
    "    if (possibleActionQ.count(maxPossibleActionQ) > 1) : newState = transition(state,getRandAction())\n",
    "    \n",
    "    return [newState, bestAction]\n",
    "\n",
    "# use the knowledge acquired during training to guide the training\n",
    "def calculateQTraining (iterations) :\n",
    "    state = 1\n",
    "    reward = 0\n",
    "    steps = 0\n",
    "    for _ in range(iterations):\n",
    "        \n",
    "        # greed factor\n",
    "        if (randint(0, 9) < 3):\n",
    "            newState = getBestState(state)[0]\n",
    "            action = getBestState(state)[1]\n",
    "        else:\n",
    "            action = getRandAction()\n",
    "            newState = transition(state, action)\n",
    "        # update matrix Q\n",
    "        updateQ(state, action)\n",
    "\n",
    "        state = newState\n",
    "\n",
    "initQ()\n",
    "\n",
    "calculateQTraining(20000)\n",
    "\n",
    "plot.imshow(matrixView(arrQ), cmap='hot')\n",
    "plot.title(\"Q matrix visualisation - guided training\")\n",
    "plot.show()\n"
   ]
  },
  {
   "cell_type": "code",
   "execution_count": 19,
   "metadata": {},
   "outputs": [
    {
     "name": "stdout",
     "output_type": "stream",
     "text": [
      "1.88\n"
     ]
    }
   ],
   "source": [
    "def agentQAction (iterations) :\n",
    "    state = 1\n",
    "    reward = 0\n",
    "    # steps = 0\n",
    "    for _ in range(iterations):\n",
    "        newState = getBestState(state)[0]\n",
    "        reward += getReward(newState)\n",
    "        # reset agent position to initial after goal was achieved\n",
    "        if getReward(newState) : newState = 1\n",
    "        state = newState\n",
    "    return reward/iterations\n",
    "\n",
    "print (agentQAction(10000))"
   ]
  },
  {
   "cell_type": "code",
   "execution_count": 20,
   "metadata": {},
   "outputs": [],
   "source": [
    "iterations = 20000\n",
    "testIterations = 1000\n",
    "runs = 30\n",
    "\n",
    "# todo runtime\n",
    "\n",
    "checkPoints = [100, 200, 500, 600, 700, 800, 900, 1000, 2500, 5000, 7500, 10000, 12500, 15000, 17500, 20000]\n",
    "\n",
    " # initialise result list of lists\n",
    "def initResultList():\n",
    "    global resultList\n",
    "    resultList = []\n",
    "    for i in range(len(checkPoints)) :\n",
    "        resultList.append([])\n",
    "    \n",
    "def excersise5():\n",
    "    initResultList()\n",
    "    for _ in range(runs) :\n",
    "        initQ()\n",
    "        fromSteps = 0\n",
    "        for index, checkSteps in enumerate(checkPoints) :\n",
    "            calculateQ(checkSteps - fromSteps)\n",
    "            fromSteps = checkSteps\n",
    "            resultList[index].append(agentQAction(testIterations))"
   ]
  },
  {
   "cell_type": "code",
   "execution_count": 21,
   "metadata": {},
   "outputs": [
    {
     "data": {
      "image/png": "[encoded data removed]",
      "text/plain": [
       "<Figure size 432x288 with 1 Axes>"
      ]
     },
     "metadata": {
      "needs_background": "light"
     },
     "output_type": "display_data"
    }
   ],
   "source": [
    "seed(1)\n",
    "excersise5()\n",
    "\n",
    "plot.boxplot((resultList),labels = checkPoints)\n",
    "plot.title(\"Reward/Step using Q matrix for 30 repeats\")\n",
    "plot.xticks(rotation=90)\n",
    "plot.show()"
   ]
  },
  {
   "cell_type": "markdown",
   "metadata": {},
   "source": [
    "Learning progress by random movement. We can see the inflection point at 2500 to 5000 steps, after which the process reaches saturation. Further updating of Q matrix does not improve the reward/step ratio, which means achieving the best result."
   ]
  },
  {
   "cell_type": "code",
   "execution_count": 22,
   "metadata": {},
   "outputs": [],
   "source": [
    "def excersise6():\n",
    "    initResultList()\n",
    "    for _ in range(runs) :\n",
    "        initQ()\n",
    "        fromSteps = 0\n",
    "        for index, checkSteps in enumerate(checkPoints) :\n",
    "            calculateQTraining(checkSteps - fromSteps)\n",
    "            fromSteps = checkSteps\n",
    "            resultList[index].append(agentQAction(testIterations))\n",
    "     "
   ]
  },
  {
   "cell_type": "code",
   "execution_count": 23,
   "metadata": {},
   "outputs": [
    {
     "data": {
      "image/png": "[encoded data removed]",
      "text/plain": [
       "<Figure size 432x288 with 1 Axes>"
      ]
     },
     "metadata": {
      "needs_background": "light"
     },
     "output_type": "display_data"
    }
   ],
   "source": [
    "seed(1)\n",
    "excersise6()\n",
    "\n",
    "plot.boxplot((resultList),labels = checkPoints)\n",
    "plot.title(\"Reward/Step using Q matrix guided learning for 30 repeats\")\n",
    "plot.xticks(rotation=90)\n",
    "plot.show()"
   ]
  },
  {
   "cell_type": "markdown",
   "metadata": {},
   "source": [
    "Compared to the previous graph, when guided learning is applied, saturation is reached later and the inflection point is also shifted towards larger iterations, which indicates less optimal agent paths."
   ]
  },
  {
   "cell_type": "code",
   "execution_count": 24,
   "metadata": {},
   "outputs": [],
   "source": [
    "def transition(state, action) :\n",
    "    \n",
    "    # With probability of 0.05 get randome action\n",
    "    if (randint(0, 100) < 6):\n",
    "        action = getRandAction()\n",
    "        \n",
    "    if (state % 10 == 1 and action == \"left\" or state % 10 == 0 and action == \"right\" or state < 11 and action == \"up\" or state > 90 and action == \"down\") :\n",
    "        return state\n",
    "    if action == \"left\" :\n",
    "        state -= 1\n",
    "    elif action == \"right\" :\n",
    "        state += 1\n",
    "    elif action == \"up\" :\n",
    "        state -= 10\n",
    "    elif action == \"down\" :\n",
    "        state += 10\n",
    "    else:\n",
    "        pass\n",
    "    return state"
   ]
  },
  {
   "cell_type": "code",
   "execution_count": 37,
   "metadata": {},
   "outputs": [],
   "source": [
    "initQ()\n",
    "\n",
    "calculateQ(20000)\n",
    "\n"
   ]
  },
  {
   "cell_type": "code",
   "execution_count": 40,
   "metadata": {},
   "outputs": [
    {
     "data": {
      "image/png": "[encoded data removed]",
      "text/plain": [
       "<Figure size 432x288 with 1 Axes>"
      ]
     },
     "metadata": {
      "needs_background": "light"
     },
     "output_type": "display_data"
    }
   ],
   "source": [
    "plot.imshow(matrixView(arrQ), cmap='hot')\n",
    "plot.title(\"Q matrix visualisation - with 5% of randomness movement\")\n",
    "plot.show()"
   ]
  },
  {
   "cell_type": "code",
   "execution_count": 26,
   "metadata": {},
   "outputs": [
    {
     "data": {
      "image/png": "[encoded data removed]",
      "text/plain": [
       "<Figure size 432x288 with 1 Axes>"
      ]
     },
     "metadata": {
      "needs_background": "light"
     },
     "output_type": "display_data"
    }
   ],
   "source": [
    "seed(1)\n",
    "excersise5() \n",
    "\n",
    "plot.boxplot((resultList),labels = checkPoints)\n",
    "plot.title(\"Reward/Step using Q matrix with 5% of randomness movement for 30 repeats\")\n",
    "plot.xticks(rotation=90)\n",
    "plot.show()"
   ]
  },
  {
   "cell_type": "code",
   "execution_count": 27,
   "metadata": {},
   "outputs": [],
   "source": [
    "# todo to conclude"
   ]
  },
  {
   "cell_type": "code",
   "execution_count": 28,
   "metadata": {},
   "outputs": [],
   "source": [
    "# rewrite function for labyrinth 1 (add walls)\n",
    "def transition(state, action) :\n",
    "    \n",
    "    newState = state\n",
    "    if (state % 10 == 1 \n",
    "        and action == \"left\" or state % 10 == 0 \n",
    "        and action == \"right\" or state < 11 \n",
    "        and action == \"up\" or state > 90 \n",
    "        and action == \"down\") :\n",
    "        return state\n",
    "    if action == \"left\" :\n",
    "        newState -= 1\n",
    "    elif action == \"right\" :\n",
    "        newState += 1\n",
    "    elif action == \"up\" :\n",
    "        newState -= 10\n",
    "    elif action == \"down\" :\n",
    "        newState += 10\n",
    "    else:\n",
    "        pass\n",
    "    \n",
    "    # dirty but fast \n",
    "    wall1 = [3,13,23,33,43,53,63,73,83]\n",
    "    wall2 = [17,27,37,47,57,67,77,87,97]\n",
    "    if (wall1.count(newState) or wall2.count(newState)): \n",
    "        newState = state\n",
    "    \n",
    "    return newState\n"
   ]
  },
  {
   "cell_type": "code",
   "execution_count": 29,
   "metadata": {},
   "outputs": [
    {
     "data": {
      "image/png": "[encoded data removed]",
      "text/plain": [
       "<Figure size 432x288 with 1 Axes>"
      ]
     },
     "metadata": {
      "needs_background": "light"
     },
     "output_type": "display_data"
    }
   ],
   "source": [
    "initQ()\n",
    "\n",
    "calculateQ(20000)\n",
    "\n",
    "plot.imshow(matrixView(arrQ), cmap='hot')\n",
    "plot.title(\"Heatmap of Q matrix with walls 1\")\n",
    "plot.show()"
   ]
  },
  {
   "cell_type": "code",
   "execution_count": 30,
   "metadata": {},
   "outputs": [
    {
     "data": {
      "image/png": "[encoded data removed]",
      "text/plain": [
       "<Figure size 432x288 with 1 Axes>"
      ]
     },
     "metadata": {
      "needs_background": "light"
     },
     "output_type": "display_data"
    }
   ],
   "source": [
    "seed(1)\n",
    "excersise5() \n",
    "\n",
    "plot.boxplot((resultList),labels = checkPoints)\n",
    "plot.title(\"Reward/Step using Q matrix with walls 1\")\n",
    "plot.xticks(rotation=90)\n",
    "plot.show()"
   ]
  },
  {
   "cell_type": "code",
   "execution_count": 31,
   "metadata": {},
   "outputs": [],
   "source": [
    "# rewrite function for labyrinth 2 (add walls)\n",
    "def transition(state, action) :\n",
    "    \n",
    "    newState = state\n",
    "    if (state % 10 == 1 \n",
    "        and action == \"left\" or state % 10 == 0 \n",
    "        and action == \"right\" or state < 11 \n",
    "        and action == \"up\" or state > 90 \n",
    "        and action == \"down\") :\n",
    "        return state\n",
    "    if action == \"left\" :\n",
    "        newState -= 1\n",
    "    elif action == \"right\" :\n",
    "        newState += 1\n",
    "    elif action == \"up\" :\n",
    "        newState -= 10\n",
    "    elif action == \"down\" :\n",
    "        newState += 10\n",
    "    else:\n",
    "        pass\n",
    "    \n",
    "    wall1 = [4,14,24,34,44,54,64,74,84]\n",
    "    wall2 = [17,27,37,47,57,67,77,87,97]\n",
    "    if (wall1.count(newState) or wall2.count(newState)): \n",
    "        newState = state\n",
    "    \n",
    "    return newState"
   ]
  },
  {
   "cell_type": "code",
   "execution_count": 32,
   "metadata": {},
   "outputs": [
    {
     "data": {
      "image/png": "[encoded data removed]",
      "text/plain": [
       "<Figure size 432x288 with 1 Axes>"
      ]
     },
     "metadata": {
      "needs_background": "light"
     },
     "output_type": "display_data"
    }
   ],
   "source": [
    "initQ()\n",
    "\n",
    "calculateQ(20000)\n",
    "\n",
    "plot.imshow(matrixView(arrQ), cmap='hot')\n",
    "plot.title(\"Heatmap of Q matrix with walls 2\")\n",
    "plot.show()"
   ]
  },
  {
   "cell_type": "code",
   "execution_count": 33,
   "metadata": {},
   "outputs": [
    {
     "data": {
      "image/png": "[encoded data removed]",
      "text/plain": [
       "<Figure size 432x288 with 1 Axes>"
      ]
     },
     "metadata": {
      "needs_background": "light"
     },
     "output_type": "display_data"
    }
   ],
   "source": [
    "seed(1)\n",
    "excersise5() \n",
    "\n",
    "plot.boxplot((resultList),labels = checkPoints)\n",
    "plot.title(\"Reward/Step using Q matrix with walls 2\")\n",
    "plot.xticks(rotation=90)\n",
    "plot.show()"
   ]
  },
  {
   "cell_type": "code",
   "execution_count": null,
   "metadata": {},
   "outputs": [],
   "source": []
  }
 ],
 "metadata": {
  "kernelspec": {
   "display_name": "Python 3",
   "language": "python",
   "name": "python3"
  },
  "language_info": {
   "codemirror_mode": {
    "name": "ipython",
    "version": 3
   },
   "file_extension": ".py",
   "mimetype": "text/x-python",
   "name": "python",
   "nbconvert_exporter": "python",
   "pygments_lexer": "ipython3",
   "version": "3.8.3"
  }
 },
 "nbformat": 4,
 "nbformat_minor": 4
}
