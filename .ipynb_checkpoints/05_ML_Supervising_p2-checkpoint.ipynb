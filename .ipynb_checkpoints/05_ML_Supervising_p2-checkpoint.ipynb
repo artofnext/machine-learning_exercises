{
 "cells": [
  {
   "cell_type": "code",
   "execution_count": 24,
   "metadata": {},
   "outputs": [],
   "source": [
    "import math\n",
    "import random\n",
    "import numpy as np\n",
    "from matplotlib import pyplot as plot"
   ]
  },
  {
   "cell_type": "code",
   "execution_count": 34,
   "metadata": {},
   "outputs": [
    {
     "name": "stdout",
     "output_type": "stream",
     "text": [
      "32\n",
      "9\n",
      "23\n"
     ]
    }
   ],
   "source": [
    "# prepare data\n",
    "\n",
    "# generates set of all possible bit patterns\n",
    "# returns list of bit pattern lists\n",
    "def generateDataSet(length = 2):\n",
    "    result = []\n",
    "    formatter = \"0\" + str(length) + \"b\"\n",
    "    for i in range(2 ** length):\n",
    "        result.append([int(x) for x in format(i, formatter)])\n",
    "    return result\n",
    "\n",
    "# classification rule odd = -1 even = 1\n",
    "# input list of bit pattern lists\n",
    "# return list\n",
    "def desiredOutputOddEven(inputV):\n",
    "    result = []\n",
    "    for x in inputV:\n",
    "        res = 1 if (int(\"\".join(str(elem) for elem in x), 2) % 2) == 0  else -1\n",
    "        result.append(res)\n",
    "    return result\n",
    "\n",
    "# return 2 sets of randomly selected elements as a sublists of a list \n",
    "def splitDataset(inputV, fraction = .3):\n",
    "    inputLength = len(inputV)\n",
    "    # generate list of random int without duplicates \n",
    "    randIndexes = random.sample(range(inputLength - 1), int(inputLength * fraction))\n",
    "    output1 = []\n",
    "    output2 = []\n",
    "    for index, x in enumerate(inputV):\n",
    "        if index in randIndexes:\n",
    "            output1.append(x[:])\n",
    "        else:\n",
    "            output2.append(x[:])\n",
    "    return [output1, output2]\n",
    "\n",
    "\n",
    "datas1 = generateDataSet(5)\n",
    "#print(datas1)\n",
    "splitted1 = splitDataset(datas1)\n",
    "#print(splitted1)\n",
    "print(len(datas1))\n",
    "print(len(splitted1[0]))\n",
    "print(len(splitted1[1]))"
   ]
  },
  {
   "cell_type": "code",
   "execution_count": 30,
   "metadata": {},
   "outputs": [],
   "source": [
    "# return Hamming distance\n",
    "def getDistance(pattern1, pattern2):\n",
    "    if (len(pattern1) != len(pattern1)):\n",
    "        print('Patterns length missmatch!')\n",
    "        return False\n",
    "    matchedBits = 0\n",
    "    for index, bit in enumerate(pattern1):\n",
    "        if (bit != pattern2[index]):\n",
    "            matchedBits += 1\n",
    "    return matchedBits"
   ]
  },
  {
   "cell_type": "code",
   "execution_count": 39,
   "metadata": {},
   "outputs": [],
   "source": [
    "class ClassifierKNN:\n",
    "    def __init__(self, inputV, outputV, k = 3):\n",
    "        self.inputV = inputV\n",
    "        self.outputV = outputV\n",
    "        self.k = k\n",
    "        \n",
    "    def clasify(self, sample):\n",
    "        distanseV = []\n",
    "        for x in self.inputV:\n",
    "            distanseV.append(getDistance(x, sample))\n",
    "            print (distanseV)\n",
    "        #return _class\n",
    "    "
   ]
  },
  {
   "cell_type": "code",
   "execution_count": 45,
   "metadata": {},
   "outputs": [
    {
     "name": "stdout",
     "output_type": "stream",
     "text": [
      "[0]\n",
      "[0, 1]\n",
      "[0, 1, 1]\n",
      "[0, 1, 1, 2]\n",
      "[0, 1, 1, 2, 1]\n",
      "[0, 1, 1, 2, 1, 2]\n",
      "[0, 1, 1, 2, 1, 2, 2]\n",
      "[0, 1, 1, 2, 1, 2, 2, 3]\n",
      "[0, 1, 1, 2, 1, 2, 2, 3, 1]\n",
      "[0, 1, 1, 2, 1, 2, 2, 3, 1, 2]\n",
      "[0, 1, 1, 2, 1, 2, 2, 3, 1, 2, 2]\n",
      "[0, 1, 1, 2, 1, 2, 2, 3, 1, 2, 2, 3]\n",
      "[0, 1, 1, 2, 1, 2, 2, 3, 1, 2, 2, 3, 2]\n",
      "[0, 1, 1, 2, 1, 2, 2, 3, 1, 2, 2, 3, 2, 3]\n",
      "[0, 1, 1, 2, 1, 2, 2, 3, 1, 2, 2, 3, 2, 3, 3]\n",
      "[0, 1, 1, 2, 1, 2, 2, 3, 1, 2, 2, 3, 2, 3, 3, 4]\n",
      "[0, 1, 1, 2, 1, 2, 2, 3, 1, 2, 2, 3, 2, 3, 3, 4, 1]\n",
      "[0, 1, 1, 2, 1, 2, 2, 3, 1, 2, 2, 3, 2, 3, 3, 4, 1, 2]\n",
      "[0, 1, 1, 2, 1, 2, 2, 3, 1, 2, 2, 3, 2, 3, 3, 4, 1, 2, 2]\n",
      "[0, 1, 1, 2, 1, 2, 2, 3, 1, 2, 2, 3, 2, 3, 3, 4, 1, 2, 2, 3]\n",
      "[0, 1, 1, 2, 1, 2, 2, 3, 1, 2, 2, 3, 2, 3, 3, 4, 1, 2, 2, 3, 2]\n",
      "[0, 1, 1, 2, 1, 2, 2, 3, 1, 2, 2, 3, 2, 3, 3, 4, 1, 2, 2, 3, 2, 3]\n",
      "[0, 1, 1, 2, 1, 2, 2, 3, 1, 2, 2, 3, 2, 3, 3, 4, 1, 2, 2, 3, 2, 3, 3]\n",
      "[0, 1, 1, 2, 1, 2, 2, 3, 1, 2, 2, 3, 2, 3, 3, 4, 1, 2, 2, 3, 2, 3, 3, 4]\n",
      "[0, 1, 1, 2, 1, 2, 2, 3, 1, 2, 2, 3, 2, 3, 3, 4, 1, 2, 2, 3, 2, 3, 3, 4, 2]\n",
      "[0, 1, 1, 2, 1, 2, 2, 3, 1, 2, 2, 3, 2, 3, 3, 4, 1, 2, 2, 3, 2, 3, 3, 4, 2, 3]\n",
      "[0, 1, 1, 2, 1, 2, 2, 3, 1, 2, 2, 3, 2, 3, 3, 4, 1, 2, 2, 3, 2, 3, 3, 4, 2, 3, 3]\n",
      "[0, 1, 1, 2, 1, 2, 2, 3, 1, 2, 2, 3, 2, 3, 3, 4, 1, 2, 2, 3, 2, 3, 3, 4, 2, 3, 3, 4]\n",
      "[0, 1, 1, 2, 1, 2, 2, 3, 1, 2, 2, 3, 2, 3, 3, 4, 1, 2, 2, 3, 2, 3, 3, 4, 2, 3, 3, 4, 3]\n",
      "[0, 1, 1, 2, 1, 2, 2, 3, 1, 2, 2, 3, 2, 3, 3, 4, 1, 2, 2, 3, 2, 3, 3, 4, 2, 3, 3, 4, 3, 4]\n",
      "[0, 1, 1, 2, 1, 2, 2, 3, 1, 2, 2, 3, 2, 3, 3, 4, 1, 2, 2, 3, 2, 3, 3, 4, 2, 3, 3, 4, 3, 4, 4]\n",
      "[0, 1, 1, 2, 1, 2, 2, 3, 1, 2, 2, 3, 2, 3, 3, 4, 1, 2, 2, 3, 2, 3, 3, 4, 2, 3, 3, 4, 3, 4, 4, 5]\n"
     ]
    }
   ],
   "source": [
    "classif1 = ClassifierKNN(datas1, datas1)\n",
    "classif1.clasify([1,1,1,1,1])"
   ]
  },
  {
   "cell_type": "code",
   "execution_count": null,
   "metadata": {},
   "outputs": [],
   "source": []
  }
 ],
 "metadata": {
  "kernelspec": {
   "display_name": "Python 3",
   "language": "python",
   "name": "python3"
  },
  "language_info": {
   "codemirror_mode": {
    "name": "ipython",
    "version": 3
   },
   "file_extension": ".py",
   "mimetype": "text/x-python",
   "name": "python",
   "nbconvert_exporter": "python",
   "pygments_lexer": "ipython3",
   "version": "3.8.3"
  }
 },
 "nbformat": 4,
 "nbformat_minor": 4
}
