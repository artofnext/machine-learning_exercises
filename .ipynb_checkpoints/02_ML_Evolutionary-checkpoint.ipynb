{
 "cells": [
  {
   "cell_type": "code",
   "execution_count": 1,
   "metadata": {},
   "outputs": [],
   "source": [
    "import time\n",
    "from random import seed\n",
    "from random import randint\n",
    "import matplotlib.pyplot as plot\n",
    "import numpy as np"
   ]
  },
  {
   "cell_type": "markdown",
   "metadata": {},
   "source": [
    "1. The function that produces a random bit pattern of a specific size "
   ]
  },
  {
   "cell_type": "code",
   "execution_count": 2,
   "metadata": {},
   "outputs": [],
   "source": [
    "def bitsRandom(bits):\n",
    "    result = []\n",
    "    for _ in range(bits):\n",
    "        result.append(randint(0, 1))\n",
    "    return result"
   ]
  },
  {
   "cell_type": "markdown",
   "metadata": {},
   "source": [
    "2.  Create a function that will generate random patterns and measure how many attempts (and how much time) does it take to generate the \"correct\" bit pattern."
   ]
  },
  {
   "cell_type": "code",
   "execution_count": 3,
   "metadata": {},
   "outputs": [],
   "source": [
    "# return list where [0] - attempts, [1] - time\n",
    "def findBitPattern(bitPattern):\n",
    "    counter = 0\n",
    "    bitLength = len(bitPattern)\n",
    "    \n",
    "    startTime = time.time() \n",
    "    while True:\n",
    "        randomPattern = bitsRandom(bitLength)\n",
    "        counter += 1\n",
    "        if (randomPattern == bitPattern or counter > 10000000):\n",
    "            break\n",
    "    runTime = (time.time() - startTime)\n",
    "    return [counter, runTime]\n",
    "\n",
    " # initialise result list of lists\n",
    "def initResultList(length):\n",
    "    resultList = []\n",
    "    for i in range(length) :\n",
    "        resultList.append([])\n",
    "    return resultList"
   ]
  },
  {
   "cell_type": "code",
   "execution_count": 4,
   "metadata": {},
   "outputs": [],
   "source": [
    "seed(1)\n",
    "runs = 30\n",
    "bitsNumberList = [8, 10, 12, 14, 16]\n",
    "\n",
    "# data model: [\n",
    "#         6bit    [run1,run2,...,run30],\n",
    "#         8bit    [run1,run2,...,run30],\n",
    "#         .....      \n",
    "#             ]\n",
    "\n",
    "attempts = initResultList(len(bitsNumberList))\n",
    "runtime = initResultList(len(bitsNumberList))\n",
    "\n",
    "# \n",
    "def task2():\n",
    "    for _ in range(runs):\n",
    "        for index, bitsNumber in enumerate(bitsNumberList) :\n",
    "            originPattern = bitsRandom(bitsNumber)\n",
    "            result = findBitPattern(originPattern)\n",
    "            attempts[index].append(result[0])\n",
    "            runtime[index].append(result[1])\n",
    "\n",
    "task2()"
   ]
  },
  {
   "cell_type": "code",
   "execution_count": 5,
   "metadata": {},
   "outputs": [
    {
     "data": {
      "image/png": "[encoded data removed]",
      "text/plain": [
       "<Figure size 432x288 with 1 Axes>"
      ]
     },
     "metadata": {
      "needs_background": "light"
     },
     "output_type": "display_data"
    }
   ],
   "source": [
    "plot.boxplot((attempts),labels = bitsNumberList)\n",
    "plot.title(\"Attempts vs bits random generated\")\n",
    "plot.show()"
   ]
  },
  {
   "cell_type": "code",
   "execution_count": 6,
   "metadata": {},
   "outputs": [
    {
     "data": {
      "image/png": "[encoded data removed]",
      "text/plain": [
       "<Figure size 432x288 with 1 Axes>"
      ]
     },
     "metadata": {
      "needs_background": "light"
     },
     "output_type": "display_data"
    }
   ],
   "source": [
    "plot.boxplot((runtime),labels = bitsNumberList)\n",
    "plot.title(\"Runtime vs bits random generated\")\n",
    "plot.show()"
   ]
  },
  {
   "cell_type": "markdown",
   "metadata": {},
   "source": [
    "As we can see, attempts and time for a random selection of a bit pattern increase exponentially with increasing bit depth."
   ]
  },
  {
   "cell_type": "markdown",
   "metadata": {},
   "source": [
    "3. Create an evaluation function that measures the proximity to a pattern. Can this information be used\n",
    "to improve the search-times?"
   ]
  },
  {
   "cell_type": "code",
   "execution_count": 7,
   "metadata": {},
   "outputs": [],
   "source": [
    "def getProximity(pattern1, pattern2):\n",
    "    if (len(pattern1) != len(pattern1)):\n",
    "        print('Patterns length missmatch!')\n",
    "        return False\n",
    "    matchedBits = 0\n",
    "    for index, bit in enumerate(pattern1):\n",
    "        if (bit == pattern2[index]):\n",
    "            matchedBits += 1\n",
    "    return (matchedBits/len(pattern1))"
   ]
  },
  {
   "cell_type": "code",
   "execution_count": 8,
   "metadata": {},
   "outputs": [],
   "source": [
    "# return new list with random bits changed to opposit\n",
    "def mutateBits(bitPattern, bits = 1):\n",
    "    bitLength = len(bitPattern)\n",
    "    newPattern = list(bitPattern)\n",
    "    for bit in range(bits):\n",
    "        #print(bitPattern)\n",
    "        bitNumber = randint(0,bitLength - 1)\n",
    "        #print(bitNumber)\n",
    "        newPattern[bitNumber] = 0 if bool(newPattern[bitNumber]) else 1\n",
    "        #print(newPattern)\n",
    "    return newPattern"
   ]
  },
  {
   "cell_type": "code",
   "execution_count": 9,
   "metadata": {},
   "outputs": [],
   "source": [
    "# return list where [0] - attempts, [1] - time\n",
    "def findBitPatternImproved(bitPattern):\n",
    "    counter = 0\n",
    "    bitLength = len(bitPattern)\n",
    "    oldPattern = bitsRandom(bitLength)\n",
    "    # just in case we guess at once\n",
    "    if oldPattern == bitPattern : return [0, 0]\n",
    "    startTime = time.time() \n",
    "    while True:\n",
    "        # mutate bits\n",
    "        newPattern = mutateBits(oldPattern)\n",
    "        if (getProximity(bitPattern, newPattern) > getProximity(bitPattern, oldPattern)):\n",
    "            oldPattern = list(newPattern)\n",
    "        counter += 1\n",
    "        if (newPattern == bitPattern or counter > 10000000):\n",
    "            break\n",
    "    runTime = (time.time() - startTime)\n",
    "    return [counter, runTime]"
   ]
  },
  {
   "cell_type": "markdown",
   "metadata": {},
   "source": [
    "To improve the search time using the proximity function, we will implement the algorithm that will sequentially change randomly 1 bit in the pattern and accept this change only if it gets us closer to target. "
   ]
  },
  {
   "cell_type": "code",
   "execution_count": 10,
   "metadata": {},
   "outputs": [],
   "source": [
    "seed(1)\n",
    "runs = 30\n",
    "bitsNumberList = [8, 10, 12, 14, 16]\n",
    "\n",
    "# data model: [\n",
    "#         6bit    [run1,run2,...,run30],\n",
    "#         8bit    [run1,run2,...,run30],\n",
    "#         .....      \n",
    "#             ]\n",
    "\n",
    "attempts = initResultList(len(bitsNumberList))\n",
    "runtime = initResultList(len(bitsNumberList))\n",
    "\n",
    "# \n",
    "def task3():\n",
    "    for _ in range(runs):\n",
    "        for index, bitsNumber in enumerate(bitsNumberList) :\n",
    "            originPattern = bitsRandom(bitsNumber)\n",
    "            result = findBitPatternImproved(originPattern)\n",
    "            attempts[index].append(result[0])\n",
    "            runtime[index].append(result[1])\n",
    "\n",
    "task3()"
   ]
  },
  {
   "cell_type": "code",
   "execution_count": 11,
   "metadata": {},
   "outputs": [
    {
     "data": {
      "image/png": "[encoded data removed]",
      "text/plain": [
       "<Figure size 432x288 with 1 Axes>"
      ]
     },
     "metadata": {
      "needs_background": "light"
     },
     "output_type": "display_data"
    }
   ],
   "source": [
    "plot.boxplot((attempts),labels = bitsNumberList)\n",
    "plot.title(\"Attempts vs bits improved search\")\n",
    "plot.show()"
   ]
  },
  {
   "cell_type": "code",
   "execution_count": 12,
   "metadata": {
    "scrolled": true
   },
   "outputs": [
    {
     "data": {
      "image/png": "[encoded data removed]",
      "text/plain": [
       "<Figure size 432x288 with 1 Axes>"
      ]
     },
     "metadata": {
      "needs_background": "light"
     },
     "output_type": "display_data"
    }
   ],
   "source": [
    "plot.boxplot((runtime),labels = bitsNumberList)\n",
    "plot.title(\"Runtime vs bits improved search\")\n",
    "plot.show()"
   ]
  },
  {
   "cell_type": "markdown",
   "metadata": {},
   "source": [
    "Using such approach we can drastically reduce attempts and time needed to find \"right\" pattern"
   ]
  },
  {
   "cell_type": "markdown",
   "metadata": {},
   "source": [
    "4. Create another evaluation function that favors some patterns over others according to rule.\n",
    "\n",
    "The function will give preference to patterns where \"0\" and \"1\" successively alternate. Thus, patterns 10101010 or 01010101 will have the highest score."
   ]
  },
  {
   "cell_type": "code",
   "execution_count": 13,
   "metadata": {},
   "outputs": [],
   "source": [
    "# Evaluation function 4\n",
    "# the best bit pattern is [1,0,1,0,...]\n",
    "def evaluatePattern4(bitPattern):\n",
    "    value = 0\n",
    "    bitLendth = len(bitPattern)\n",
    "    for index in range(bitLendth - 1):\n",
    "        if bitPattern[index] != bitPattern[index + 1] :\n",
    "            value += 1\n",
    "    return (value / (bitLendth - 1))"
   ]
  },
  {
   "cell_type": "code",
   "execution_count": 14,
   "metadata": {},
   "outputs": [],
   "source": [
    "def bitsZeros(bits):\n",
    "    result = []\n",
    "    for _ in range(bits):\n",
    "        result.append(0)\n",
    "    return result\n",
    "    \n",
    "\n",
    "# return list where [0] - attempts, [1] - time\n",
    "def findBitPatternImproved4(bitLength):\n",
    "    counter = 0\n",
    "    oldPattern = bitsRandom(bitLength)\n",
    "    # just in case we guess at once\n",
    "    if evaluatePattern4(oldPattern) > 0.999 : return [0, 0]\n",
    "    startTime = time.time() \n",
    "    while True:\n",
    "        # mutate 1 bit\n",
    "        newPattern = mutateBits(oldPattern)\n",
    "        if (evaluatePattern4(newPattern) > evaluatePattern4(oldPattern)):\n",
    "            oldPattern = list(newPattern)\n",
    "        counter += 1\n",
    "        if (evaluatePattern4(oldPattern) > 0.999 or counter > 10000):\n",
    "            break\n",
    "    runTime = (time.time() - startTime)\n",
    "    return [counter, runTime, oldPattern]"
   ]
  },
  {
   "cell_type": "code",
   "execution_count": 15,
   "metadata": {},
   "outputs": [],
   "source": [
    "seed(1)\n",
    "runs = 30\n",
    "bitsNumberList = [8, 10, 12, 14, 16]\n",
    "\n",
    "# data model: [\n",
    "#         6bit    [run1,run2,...,run30],\n",
    "#         8bit    [run1,run2,...,run30],\n",
    "#         .....      \n",
    "#             ]\n",
    "\n",
    "attempts = initResultList(len(bitsNumberList))\n",
    "runtime = initResultList(len(bitsNumberList))\n",
    "\n",
    "# \n",
    "def task4():\n",
    "    for _ in range(runs):\n",
    "        for index, bitsNumber in enumerate(bitsNumberList) :\n",
    "            result = findBitPatternImproved4(bitsNumber)\n",
    "            attempts[index].append(result[0])\n",
    "            runtime[index].append(result[1])\n",
    "\n",
    "task4()"
   ]
  },
  {
   "cell_type": "code",
   "execution_count": 16,
   "metadata": {},
   "outputs": [
    {
     "data": {
      "image/png": "[encoded data removed]",
      "text/plain": [
       "<Figure size 432x288 with 1 Axes>"
      ]
     },
     "metadata": {
      "needs_background": "light"
     },
     "output_type": "display_data"
    }
   ],
   "source": [
    "plot.boxplot((attempts),labels = bitsNumberList)\n",
    "plot.title(\"Attempts vs bits 1-bit mutation\")\n",
    "plot.show()"
   ]
  },
  {
   "cell_type": "code",
   "execution_count": 17,
   "metadata": {},
   "outputs": [
    {
     "data": {
      "image/png": "[encoded data removed]",
      "text/plain": [
       "<Figure size 432x288 with 1 Axes>"
      ]
     },
     "metadata": {
      "needs_background": "light"
     },
     "output_type": "display_data"
    }
   ],
   "source": [
    "plot.boxplot((runtime),labels = bitsNumberList)\n",
    "plot.title(\"Runtime vs bits 1-bit mutation\")\n",
    "plot.show()"
   ]
  },
  {
   "cell_type": "markdown",
   "metadata": {},
   "source": [
    "Using the same finction than on previous task, we can see that it can't find the desired pattern in reasonable period of time.\n",
    "That's because of our estimation function is non-linear with two global maxima and many local ones (see picture below). Using successive approximations fails to obtain the best result, since the process is frozen at the first encountered local maximum."
   ]
  },
  {
   "cell_type": "code",
   "execution_count": 18,
   "metadata": {},
   "outputs": [
    {
     "data": {
      "image/png": "[encoded data removed]",
      "text/plain": [
       "<Figure size 432x288 with 1 Axes>"
      ]
     },
     "metadata": {
      "needs_background": "light"
     },
     "output_type": "display_data"
    }
   ],
   "source": [
    "bitLength = 8\n",
    "number = 2 ** bitLength\n",
    "values = []\n",
    "numbers = []\n",
    "# convert a number to list of bits given length\n",
    "getBin = lambda x, n: [int(i) for i in format(x, 'b').zfill(n)]\n",
    "for i in range(number):\n",
    "    values.append(evaluatePattern4(getBin(i, bitLength)))\n",
    "    numbers.append(i)\n",
    "\n",
    "plot.plot(numbers, values)\n",
    "plot.title('Evaluation function for ' + str(bitLength) + '-bit pattern')\n",
    "plot.xlabel(\"bit patterns in decimal representation\")\n",
    "plot.show() "
   ]
  },
  {
   "cell_type": "markdown",
   "metadata": {},
   "source": [
    "To avoid this, a wider range of mutations is applicable. At each stage of the approximation, we will change several (from 1 to half of all bits) in the pattern in order to \"jump\" out of the zones of the local maxima of the function."
   ]
  },
  {
   "cell_type": "code",
   "execution_count": 19,
   "metadata": {},
   "outputs": [],
   "source": [
    "# return list where [0] - attempts, [1] - time\n",
    "def findBitPatternImproved4a(bitLength):\n",
    "    counter = 0\n",
    "    oldPattern = bitsRandom(bitLength)\n",
    "    # just in case we guess at once\n",
    "    if evaluatePattern4(oldPattern) > 0.999 : return [0, 0]\n",
    "    startTime = time.time() \n",
    "    while True:\n",
    "        # mutate from 1 to half of all bits in the pattern\n",
    "        newPattern = mutateBits(oldPattern, randint(1, bitLength // 2))\n",
    "        if (evaluatePattern4(newPattern) > evaluatePattern4(oldPattern)):\n",
    "            oldPattern = list(newPattern)\n",
    "        counter += 1\n",
    "        #print(oldPattern)\n",
    "        #print((evaluatePattern4(oldPattern)))\n",
    "        if (evaluatePattern4(oldPattern) > 0.999 or counter > 100000):\n",
    "            #print((evaluatePattern4(oldPattern)))\n",
    "            break\n",
    "    runTime = (time.time() - startTime)\n",
    "    return [counter, runTime, oldPattern]"
   ]
  },
  {
   "cell_type": "code",
   "execution_count": 20,
   "metadata": {},
   "outputs": [],
   "source": [
    "seed(1)\n",
    "runs = 30\n",
    "bitsNumberList = [8, 10, 12, 14, 16]\n",
    "\n",
    "# data model: [\n",
    "#         6bit    [run1,run2,...,run30],\n",
    "#         8bit    [run1,run2,...,run30],\n",
    "#         .....      \n",
    "#             ]\n",
    "\n",
    "attempts = initResultList(len(bitsNumberList))\n",
    "runtime = initResultList(len(bitsNumberList))\n",
    "\n",
    "# \n",
    "def task4a():\n",
    "    for _ in range(runs):\n",
    "        for index, bitsNumber in enumerate(bitsNumberList) :\n",
    "            result = findBitPatternImproved4a(bitsNumber)\n",
    "            attempts[index].append(result[0])\n",
    "            runtime[index].append(result[1])\n",
    "\n",
    "task4a()"
   ]
  },
  {
   "cell_type": "code",
   "execution_count": 21,
   "metadata": {},
   "outputs": [
    {
     "data": {
      "image/png": "[encoded data removed]",
      "text/plain": [
       "<Figure size 432x288 with 1 Axes>"
      ]
     },
     "metadata": {
      "needs_background": "light"
     },
     "output_type": "display_data"
    }
   ],
   "source": [
    "plot.boxplot((attempts),labels = bitsNumberList)\n",
    "plot.title(\"Attempts vs bits several bits mutation\")\n",
    "plot.show()"
   ]
  },
  {
   "cell_type": "code",
   "execution_count": 22,
   "metadata": {},
   "outputs": [
    {
     "data": {
      "image/png": "[encoded data removed]",
      "text/plain": [
       "<Figure size 432x288 with 1 Axes>"
      ]
     },
     "metadata": {
      "needs_background": "light"
     },
     "output_type": "display_data"
    }
   ],
   "source": [
    "plot.boxplot((runtime),labels = bitsNumberList)\n",
    "plot.title(\"Runtime vs bits several bits mutation\")\n",
    "plot.show()"
   ]
  },
  {
   "cell_type": "markdown",
   "metadata": {},
   "source": [
    "Conclusions: in case of linear evaluation function, even we use small mutations, the process has fast convergence.\n",
    "In case of non-linear evaluation function we can use bigger mutations to avoid stucks in suboptimal points. But this approach increase attempts and time. "
   ]
  },
  {
   "cell_type": "markdown",
   "metadata": {},
   "source": [
    "5. Generate a random set of patterns"
   ]
  },
  {
   "cell_type": "code",
   "execution_count": 23,
   "metadata": {},
   "outputs": [],
   "source": [
    "# returns list of lists of random bit patterns\n",
    "def getRandomPatterns(bitLength, amount = 100):\n",
    "    result = []\n",
    "    for i in range(amount):\n",
    "        result.append(bitsRandom(bitLength))\n",
    "    return result"
   ]
  },
  {
   "cell_type": "markdown",
   "metadata": {},
   "source": [
    " Select the best 30%"
   ]
  },
  {
   "cell_type": "code",
   "execution_count": 24,
   "metadata": {},
   "outputs": [],
   "source": [
    "# return new list \n",
    "def selectTheBests(patternList, items = 30):\n",
    "    if (items >= len(patternList)):\n",
    "        print('Unsufficient items')\n",
    "        return False\n",
    "    # sort the list\n",
    "    counter = 0 # fuse\n",
    "    while True:\n",
    "        stopFlag = True\n",
    "        for index in range(len(patternList) - 1):\n",
    "            if (evaluatePattern4(patternList[index]) < evaluatePattern4(patternList[index + 1])):\n",
    "                patternList[index], patternList[index + 1] = patternList[index + 1], patternList[index]\n",
    "                stopFlag = False\n",
    "        counter += 1\n",
    "        if (stopFlag or  counter > 1000):\n",
    "            break\n",
    "    return (list(patternList[:items]))\n",
    "\n",
    "# test function\n",
    "def testGetPatternsValue(patternList):\n",
    "    result = []\n",
    "    for pattern in patternList:\n",
    "        result.append(evaluatePattern4(pattern))\n",
    "    return result"
   ]
  },
  {
   "cell_type": "markdown",
   "metadata": {},
   "source": [
    "Function, that generate (by mutation) a new set of 100 based on the best 30%,"
   ]
  },
  {
   "cell_type": "code",
   "execution_count": 25,
   "metadata": {},
   "outputs": [],
   "source": [
    "# return the same list\n",
    "def regeneratePatternList(patternList, items = 100):\n",
    "    patternListLength = len(patternList)\n",
    "    bitLength = len(patternList[0])\n",
    "    index = 0\n",
    "    while len(patternList) < items:\n",
    "        # add to list mutated pattern from original list in cycle (from 0 to patternListLength)\n",
    "        patternList.append(mutateBits(patternList[index % patternListLength], bitLength // 2))\n",
    "    return patternList"
   ]
  },
  {
   "cell_type": "markdown",
   "metadata": {},
   "source": [
    "To detect the stagnation we will use a stagnate index, it is an average value of evaluation of pattern list. In case this value stay almost the same after iteration, we suppose that improvement process has been stopped."
   ]
  },
  {
   "cell_type": "code",
   "execution_count": 26,
   "metadata": {},
   "outputs": [],
   "source": [
    "# return average evaluation for pattern list\n",
    "def getStagnateIndex(patternList):\n",
    "    result = 0\n",
    "    for pattern in patternList:\n",
    "        result += evaluatePattern4(pattern)\n",
    "    return (result / len(patternList))\n",
    "\n",
    "def isPatternFound(patternList):\n",
    "    result = False\n",
    "    for pattern in patternList:\n",
    "        if evaluatePattern4(pattern) == 1.0 : \n",
    "            result = True\n",
    "            #print('Found!')\n",
    "            \n",
    "    return result"
   ]
  },
  {
   "cell_type": "code",
   "execution_count": null,
   "metadata": {},
   "outputs": [],
   "source": []
  },
  {
   "cell_type": "code",
   "execution_count": 27,
   "metadata": {},
   "outputs": [
    {
     "name": "stdout",
     "output_type": "stream",
     "text": [
      "[2, 0.07499480247497559, 0.5744444444444445, [1.0, 0.8888888888888888, 0.7777777777777778, 0.7777777777777778, 0.7777777777777778, 0.7777777777777778, 0.7777777777777778, 0.7777777777777778, 0.7777777777777778, 0.7777777777777778, 0.7777777777777778, 0.7777777777777778, 0.7777777777777778, 0.7777777777777778, 0.7777777777777778, 0.7777777777777778, 0.7777777777777778, 0.7777777777777778, 0.6666666666666666, 0.6666666666666666, 0.6666666666666666, 0.6666666666666666, 0.6666666666666666, 0.6666666666666666, 0.6666666666666666, 0.6666666666666666, 0.6666666666666666, 0.6666666666666666, 0.6666666666666666, 0.6666666666666666]]\n"
     ]
    }
   ],
   "source": [
    "\n",
    "# return list where [0] - attempts, [1] - time and several others values for test purpose\n",
    "def findBitPatternMutator(bitLength):\n",
    "    counter = 0\n",
    "    patternList1 = getRandomPatterns(bitLength)\n",
    "    startTime = time.time() \n",
    "    while True:\n",
    "        indexBefore = getStagnateIndex(patternList1)\n",
    "        patternList2 = selectTheBests(patternList1)\n",
    "        patternList2 = regeneratePatternList(patternList2)\n",
    "        indexAfter = getStagnateIndex(patternList2)\n",
    "        counter += 1\n",
    "        if (abs(indexBefore - indexAfter) < 0.00000000001 or isPatternFound(patternList2) or counter > 100000):\n",
    "            break\n",
    "        patternList1 = patternList2\n",
    "    runTime = (time.time() - startTime)\n",
    "    return [counter, runTime, indexAfter, testGetPatternsValue(selectTheBests(patternList2))]"
   ]
  },
  {
   "cell_type": "code",
   "execution_count": 28,
   "metadata": {},
   "outputs": [],
   "source": [
    "seed(1)\n",
    "runs = 30\n",
    "bitsNumberList = [8, 10, 12, 14, 16]\n",
    "\n",
    "# data model: [\n",
    "#         6bit    [run1,run2,...,run30],\n",
    "#         8bit    [run1,run2,...,run30],\n",
    "#         .....      \n",
    "#             ]\n",
    "\n",
    "attempts = initResultList(len(bitsNumberList))\n",
    "runtime = initResultList(len(bitsNumberList))\n",
    "\n",
    "# \n",
    "def task5():\n",
    "    for _ in range(runs):\n",
    "        for index, bitsNumber in enumerate(bitsNumberList) :\n",
    "            result = findBitPatternMutator(bitsNumber)\n",
    "            attempts[index].append(result[0])\n",
    "            runtime[index].append(result[1])\n",
    "\n",
    "task5()"
   ]
  },
  {
   "cell_type": "code",
   "execution_count": 29,
   "metadata": {},
   "outputs": [
    {
     "data": {
      "image/png": "[encoded data removed]",
      "text/plain": [
       "<Figure size 432x288 with 1 Axes>"
      ]
     },
     "metadata": {
      "needs_background": "light"
     },
     "output_type": "display_data"
    }
   ],
   "source": [
    "plot.boxplot((attempts),labels = bitsNumberList)\n",
    "plot.title(\"Attempts vs bits population mutation\")\n",
    "plot.show()"
   ]
  },
  {
   "cell_type": "code",
   "execution_count": 30,
   "metadata": {},
   "outputs": [
    {
     "data": {
      "image/png": "[encoded data removed]",
      "text/plain": [
       "<Figure size 432x288 with 1 Axes>"
      ]
     },
     "metadata": {
      "needs_background": "light"
     },
     "output_type": "display_data"
    }
   ],
   "source": [
    "plot.boxplot((runtime),labels = bitsNumberList)\n",
    "plot.title(\"Runtime vs bits population mutation\")\n",
    "plot.show()"
   ]
  },
  {
   "cell_type": "markdown",
   "metadata": {},
   "source": [
    "The process of selecting the best patterns in a random population allows you to speed up the search process for large bit depth patterns. Also, the dependence of time on the bit depth does not increase exponentially, as is the case with successive mutations of the same pattern."
   ]
  },
  {
   "cell_type": "markdown",
   "metadata": {},
   "source": [
    "6. Let's create a method of generating a binary pattern that copies parts of two \"parent\" patterns - \"crossover\""
   ]
  },
  {
   "cell_type": "code",
   "execution_count": 31,
   "metadata": {},
   "outputs": [
    {
     "data": {
      "text/plain": [
       "[0, 1, 0, 0, 1, 0, 1, 1]"
      ]
     },
     "execution_count": 31,
     "metadata": {},
     "output_type": "execute_result"
    }
   ],
   "source": [
    "# return child pattern wich consist of 2 parent patterns parts\n",
    "def crossoverPatterns(pattern1, pattern2):\n",
    "    patternLength = len(pattern1)\n",
    "    divideIndex = int(patternLength/2)\n",
    "    childPattern =  pattern1[:divideIndex] + pattern2[divideIndex:]\n",
    "    return childPattern\n",
    "\n",
    "# regenerate pattern list by adding \"children\" patterns based on provided pattern list with \"parents\"\n",
    "# return the same list\n",
    "def regeneratePatternListCrossover(patternList, items = 100):\n",
    "    patternListLength = len(patternList)\n",
    "    bitLength = len(patternList[0])\n",
    "    index = 0\n",
    "    while len(patternList) < items:\n",
    "        patternList.append(crossoverPatterns(patternList[index % patternListLength], patternList[(index + 1) % patternListLength]))\n",
    "    return patternList"
   ]
  },
  {
   "cell_type": "code",
   "execution_count": 34,
   "metadata": {},
   "outputs": [
    {
     "name": "stdout",
     "output_type": "stream",
     "text": [
      "[115, 9.29599404335022, 0.6790322580645156, [0.8709677419354839, 0.8709677419354839, 0.8709677419354839, 0.8709677419354839, 0.8709677419354839, 0.8709677419354839, 0.8387096774193549, 0.8387096774193549, 0.8387096774193549, 0.8387096774193549, 0.8387096774193549, 0.8387096774193549, 0.8387096774193549, 0.8064516129032258, 0.8064516129032258, 0.8064516129032258, 0.8064516129032258, 0.8064516129032258, 0.8064516129032258, 0.8064516129032258, 0.8064516129032258, 0.8064516129032258, 0.8064516129032258, 0.8064516129032258, 0.8064516129032258, 0.8064516129032258, 0.8064516129032258, 0.8064516129032258, 0.8064516129032258, 0.8064516129032258]]\n"
     ]
    }
   ],
   "source": [
    "# return list where [0] - attempts, [1] - time\n",
    "def findBitPatternCrossover(bitLength):\n",
    "    counter = 0\n",
    "    patternList1 = getRandomPatterns(bitLength)\n",
    "    startTime = time.time() \n",
    "    while True:\n",
    "        indexBefore = getStagnateIndex(patternList1)\n",
    "        patternList2 = selectTheBests(patternList1)\n",
    "        patternList2 = regeneratePatternListCrossover(patternList2)\n",
    "        indexAfter = getStagnateIndex(patternList2)\n",
    "        counter += 1\n",
    "        if (abs(indexBefore - indexAfter) < 0.000000000001 or isPatternFound(patternList2) or counter > 100000):\n",
    "            break\n",
    "        patternList1 = patternList2\n",
    "    runTime = (time.time() - startTime)\n",
    "    return [counter, runTime, indexAfter, testGetPatternsValue(selectTheBests(patternList2))]"
   ]
  },
  {
   "cell_type": "code",
   "execution_count": 38,
   "metadata": {},
   "outputs": [],
   "source": [
    "seed(1)\n",
    "runs = 30\n",
    "bitsNumberList = [8, 10, 12, 14, 16]\n",
    "\n",
    "# data model: [\n",
    "#         6bit    [run1,run2,...,run30],\n",
    "#         8bit    [run1,run2,...,run30],\n",
    "#         .....      \n",
    "#             ]\n",
    "\n",
    "attempts = initResultList(len(bitsNumberList))\n",
    "runtime = initResultList(len(bitsNumberList))\n",
    "\n",
    "# \n",
    "def task6():\n",
    "    for _ in range(runs):\n",
    "        for index, bitsNumber in enumerate(bitsNumberList) :\n",
    "            result = findBitPatternCrossover(bitsNumber)\n",
    "            attempts[index].append(result[0])\n",
    "            runtime[index].append(result[1])\n",
    "\n",
    "task6()"
   ]
  },
  {
   "cell_type": "code",
   "execution_count": 39,
   "metadata": {},
   "outputs": [
    {
     "data": {
      "image/png": "[encoded data removed]",
      "text/plain": [
       "<Figure size 432x288 with 1 Axes>"
      ]
     },
     "metadata": {
      "needs_background": "light"
     },
     "output_type": "display_data"
    }
   ],
   "source": [
    "plot.boxplot((attempts),labels = bitsNumberList)\n",
    "plot.title(\"Attempts vs bits population crossover\")\n",
    "plot.show()"
   ]
  },
  {
   "cell_type": "code",
   "execution_count": 40,
   "metadata": {},
   "outputs": [
    {
     "data": {
      "image/png": "[encoded data removed]",
      "text/plain": [
       "<Figure size 432x288 with 1 Axes>"
      ]
     },
     "metadata": {
      "needs_background": "light"
     },
     "output_type": "display_data"
    }
   ],
   "source": [
    "plot.boxplot((runtime),labels = bitsNumberList)\n",
    "plot.title(\"Runtime vs bits population crossover\")\n",
    "plot.show()"
   ]
  },
  {
   "cell_type": "markdown",
   "metadata": {},
   "source": [
    "In this case, the use of reproduction of a population by crossing shows the worst results then previos, since the diversity of offspring is determined by the original parental set, which, as a result of simple mixing, weakly increases the diversity. To improve the results, we will try to use a combined approach, adding mutated patterns to the population in addition to \"children\", implementing a rough model of the natural process of evolution."
   ]
  },
  {
   "cell_type": "code",
   "execution_count": 43,
   "metadata": {},
   "outputs": [],
   "source": [
    "# combinated approach - add both mutated bit patterns and crssoved \"children\" patterns\n",
    "# return the same list\n",
    "def regeneratePatternListCrossoverMutator(patternList, items = 100):\n",
    "    patternListLength = len(patternList)\n",
    "    bitLength = len(patternList[0])\n",
    "    index = 0\n",
    "    while len(patternList) < items:\n",
    "        # add to list mutated pattern from original list in cycle (from 0 to patternListLength)\n",
    "        patternList.append(mutateBits(patternList[index % patternListLength], bitLength // 2))\n",
    "        patternList.append(crossoverPatterns(patternList[index % patternListLength], mutateBits(patternList[(index + 1) % patternListLength], bitLength // 2)))\n",
    "    return patternList\n",
    "\n",
    "# return list where [0] - attempts, [1] - time\n",
    "def findBitPatternCrossoverMutator(bitLength):\n",
    "    counter = 0\n",
    "    patternList1 = getRandomPatterns(bitLength)\n",
    "    startTime = time.time() \n",
    "    while True:\n",
    "        indexBefore = getStagnateIndex(patternList1)\n",
    "        patternList2 = selectTheBests(patternList1)\n",
    "        patternList2 = regeneratePatternListCrossoverMutator(patternList2)\n",
    "        indexAfter = getStagnateIndex(patternList2)\n",
    "        counter += 1\n",
    "        if (abs(indexBefore - indexAfter) < 0.000000000001 or isPatternFound(patternList2) or counter > 100000):\n",
    "            break\n",
    "        patternList1 = patternList2\n",
    "    runTime = (time.time() - startTime)\n",
    "    return [counter, runTime, indexAfter, testGetPatternsValue(selectTheBests(patternList2))]"
   ]
  },
  {
   "cell_type": "code",
   "execution_count": 44,
   "metadata": {},
   "outputs": [],
   "source": [
    "seed(1)\n",
    "runs = 30\n",
    "bitsNumberList = [8, 10, 12, 14, 16]\n",
    "\n",
    "# data model: [\n",
    "#         6bit    [run1,run2,...,run30],\n",
    "#         8bit    [run1,run2,...,run30],\n",
    "#         .....      \n",
    "#             ]\n",
    "\n",
    "attempts = initResultList(len(bitsNumberList))\n",
    "runtime = initResultList(len(bitsNumberList))\n",
    "\n",
    "# \n",
    "def task6():\n",
    "    for _ in range(runs):\n",
    "        for index, bitsNumber in enumerate(bitsNumberList) :\n",
    "            result = findBitPatternCrossoverMutator(bitsNumber)\n",
    "            attempts[index].append(result[0])\n",
    "            runtime[index].append(result[1])\n",
    "\n",
    "task6()"
   ]
  },
  {
   "cell_type": "code",
   "execution_count": 45,
   "metadata": {},
   "outputs": [
    {
     "data": {
      "image/png": "[encoded data removed]",
      "text/plain": [
       "<Figure size 432x288 with 1 Axes>"
      ]
     },
     "metadata": {
      "needs_background": "light"
     },
     "output_type": "display_data"
    }
   ],
   "source": [
    "plot.boxplot((attempts),labels = bitsNumberList)\n",
    "plot.title(\"Attempts vs bits population crossover + mutations\")\n",
    "plot.show()"
   ]
  },
  {
   "cell_type": "code",
   "execution_count": 46,
   "metadata": {},
   "outputs": [
    {
     "data": {
      "image/png": "[encoded data removed]",
      "text/plain": [
       "<Figure size 432x288 with 1 Axes>"
      ]
     },
     "metadata": {
      "needs_background": "light"
     },
     "output_type": "display_data"
    }
   ],
   "source": [
    "plot.boxplot((runtime),labels = bitsNumberList)\n",
    "plot.title(\"Runtime vs bits population crossover + mutations\")\n",
    "plot.show()"
   ]
  },
  {
   "cell_type": "markdown",
   "metadata": {},
   "source": [
    "Conclusion: the optimal search result is achieved through a combined approach, where crossing and mutations are used in the formation of a new population."
   ]
  }
 ],
 "metadata": {
  "kernelspec": {
   "display_name": "Python 3",
   "language": "python",
   "name": "python3"
  },
  "language_info": {
   "codemirror_mode": {
    "name": "ipython",
    "version": 3
   },
   "file_extension": ".py",
   "mimetype": "text/x-python",
   "name": "python",
   "nbconvert_exporter": "python",
   "pygments_lexer": "ipython3",
   "version": "3.8.3"
  }
 },
 "nbformat": 4,
 "nbformat_minor": 4
}
